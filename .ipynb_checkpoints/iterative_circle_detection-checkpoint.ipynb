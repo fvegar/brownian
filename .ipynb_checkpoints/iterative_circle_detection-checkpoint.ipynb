{
 "cells": [
  {
   "cell_type": "code",
   "execution_count": null,
   "id": "b3a3306a-825a-4280-b570-d243eabdc4e7",
   "metadata": {},
   "outputs": [],
   "source": [
    "import numpy as np\n",
    "import argparse\n",
    "import cv2\n",
    "import signal\n",
    "\n",
    "from functools import wraps\n",
    "import errno\n",
    "import os\n",
    "import copy\n",
    "\n",
    "# construct the argument parser and parse the arguments\n",
    "ap = argparse.ArgumentParser()\n",
    "ap.add_argument(\"-i\", \"--image\", required = True, help = \"Path to the image\")\n",
    "args = vars(ap.parse_args())\n",
    "\n",
    "# load the image, clone it for output, and then convert it to grayscale\n",
    "image = cv2.imread(args[\"image\"])\n",
    "orig_image = np.copy(image)\n",
    "output = image.copy()\n",
    "gray = cv2.cvtColor(image, cv2.COLOR_BGR2GRAY)\n",
    "\n",
    "cv2.imshow(\"gray\", gray)\n",
    "cv2.waitKey(0)\n",
    "\n",
    "circles = None\n",
    "\n",
    "minimum_circle_size = 100      #this is the range of possible circle in pixels you want to find\n",
    "maximum_circle_size = 150     #maximum possible circle size you're willing to find in pixels\n",
    "\n",
    "guess_dp = 1.0\n",
    "\n",
    "number_of_circles_expected = 1          #we expect to find just one circle\n",
    "breakout = False\n",
    "\n",
    "#hand tune this\n",
    "max_guess_accumulator_array_threshold = 100     #minimum of 1, no maximum, (max 300?) the quantity of votes \n",
    "                                                #needed to qualify for a circle to be found.\n",
    "circleLog = []\n",
    "\n",
    "guess_accumulator_array_threshold = max_guess_accumulator_array_threshold\n",
    "\n",
    "while guess_accumulator_array_threshold > 1 and breakout == False:\n",
    "    #start out with smallest resolution possible, to find the most precise circle, then creep bigger if none found\n",
    "    guess_dp = 1.0\n",
    "    print(\"resetting guess_dp:\" + str(guess_dp))\n",
    "    while guess_dp < 9 and breakout == False:\n",
    "        guess_radius = maximum_circle_size\n",
    "        print(\"setting guess_radius: \" + str(guess_radius))\n",
    "        print(circles is None)\n",
    "        while True:\n",
    "\n",
    "            #HoughCircles algorithm isn't strong enough to stand on its own if you don't\n",
    "            #know EXACTLY what radius the circle in the image is, (accurate to within 3 pixels) \n",
    "            #If you don't know radius, you need lots of guess and check and lots of post-processing \n",
    "            #verification.  Luckily HoughCircles is pretty quick so we can brute force.\n",
    "\n",
    "            print(\"guessing radius: \" + str(guess_radius) + \n",
    "                    \" and dp: \" + str(guess_dp) + \" vote threshold: \" + \n",
    "                    str(guess_accumulator_array_threshold))\n",
    "\n",
    "            circles = cv2.HoughCircles(gray, \n",
    "                cv2.HOUGH_GRADIENT, \n",
    "                dp=guess_dp,               #resolution of accumulator array.\n",
    "                minDist=100,                #number of pixels center of circles should be from each other, hardcode\n",
    "                param1=50,\n",
    "                param2=guess_accumulator_array_threshold,\n",
    "                minRadius=(guess_radius-3),    #HoughCircles will look for circles at minimum this size\n",
    "                maxRadius=(guess_radius+3)     #HoughCircles will look for circles at maximum this size\n",
    "                )\n",
    "\n",
    "            if circles is not None:\n",
    "                if len(circles[0]) == number_of_circles_expected:\n",
    "                    print(\"len of circles: \" + str(len(circles)))\n",
    "                    circleLog.append(copy.copy(circles))\n",
    "                    print(\"k1\")\n",
    "                break\n",
    "                circles = None\n",
    "            guess_radius -= 5 \n",
    "            if guess_radius < 40:\n",
    "                break;\n",
    "\n",
    "        guess_dp += 1.5\n",
    "\n",
    "    guess_accumulator_array_threshold -= 2\n",
    "\n",
    "#Return the circleLog with the highest accumulator threshold\n",
    "\n",
    "# ensure at least some circles were found\n",
    "for cir in circleLog:\n",
    "    # convert the (x, y) coordinates and radius of the circles to integers\n",
    "    output = np.copy(orig_image)\n",
    "\n",
    "    if (len(cir) > 1):\n",
    "        print(\"FAIL before\")\n",
    "        exit()\n",
    "\n",
    "    print(cir[0, :])\n",
    "\n",
    "    cir = np.round(cir[0, :]).astype(\"int\")\n",
    "\n",
    "    # loop over the (x, y) coordinates and radius of the circles\n",
    "    if (len(cir) > 1):\n",
    "        print(\"FAIL after\")\n",
    "        exit()\n",
    "\n",
    "    for (x, y, r) in cir:\n",
    "        # draw the circle in the output image, then draw a rectangle\n",
    "        # corresponding to the center of the circle\n",
    "        cv2.circle(output, (x, y), r, (0, 0, 255), 2)\n",
    "        cv2.rectangle(output, (x - 5, y - 5), (x + 5, y + 5), (0, 128, 255), -1)\n",
    "\n",
    "    # show the output image\n",
    "    cv2.imshow(\"output\", np.hstack([orig_image, output]))\n",
    "    cv2.waitKey(0)\n"
   ]
  },
  {
   "cell_type": "markdown",
   "id": "4343385b-b2ff-45d2-b010-48cdd9f1a535",
   "metadata": {},
   "source": [
    "## Alternative but worse method: import video with OpenCV "
   ]
  },
  {
   "cell_type": "markdown",
   "id": "36da39bd-6444-4604-90da-f554340a874e",
   "metadata": {},
   "source": [
    "### Import video"
   ]
  },
  {
   "cell_type": "code",
   "execution_count": 42,
   "id": "7ca8b81d-b416-4935-b38b-b69ff2b01d93",
   "metadata": {},
   "outputs": [],
   "source": [
    "video_cv = cv.VideoCapture('/home/fvega/Datos/brownian_blades/180322/blanca_265.cine')"
   ]
  },
  {
   "cell_type": "code",
   "execution_count": 29,
   "id": "94ce2dac-038a-459c-aa53-52091cd39cf0",
   "metadata": {},
   "outputs": [
    {
     "data": {
      "text/plain": [
       "0.0"
      ]
     },
     "execution_count": 29,
     "metadata": {},
     "output_type": "execute_result"
    }
   ],
   "source": [
    "video_cv.get(cv.CAP_PROP_MONOCHROME)"
   ]
  },
  {
   "cell_type": "markdown",
   "id": "80df4ea7-414b-43e8-90b3-d5a5b5bc8ff5",
   "metadata": {},
   "source": [
    "## Alternate (not working on notebook) display image method with OpenCV"
   ]
  },
  {
   "cell_type": "code",
   "execution_count": 24,
   "id": "19477b0e-f985-47ed-aff0-804974644f35",
   "metadata": {},
   "outputs": [],
   "source": [
    "# NO FUNCIONA EN JUPYTER, solo terminal\n",
    "def cv_imshow(img):\n",
    "    while True: \n",
    "        cv.imshow('ImageDisplay',img)\n",
    "        if cv.waitKey(20) & 0xFF == ord('d'):\n",
    "            cv.destroyAllWindows()\n",
    "            break"
   ]
  },
  {
   "cell_type": "markdown",
   "id": "7a0c9370-935e-4801-90a4-f02a0fabccb2",
   "metadata": {},
   "source": [
    "### OpenCV-Read first image, after import"
   ]
  },
  {
   "cell_type": "code",
   "execution_count": 49,
   "id": "42dd0286-5f85-455f-b400-b1759b91d703",
   "metadata": {},
   "outputs": [
    {
     "name": "stdout",
     "output_type": "stream",
     "text": [
      "frame has 3  8-bit chanels (RGB), and a resolution of  800 x 832  pixels \n",
      "\n"
     ]
    },
    {
     "data": {
      "text/plain": [
       "<matplotlib.image.AxesImage at 0x7fca7dfb1270>"
      ]
     },
     "execution_count": 49,
     "metadata": {},
     "output_type": "execute_result"
    },
    {
     "data": {
      "image/png": "[encoded data removed]",
      "text/plain": [
       "<Figure size 432x288 with 1 Axes>"
      ]
     },
     "metadata": {
      "needs_background": "light"
     },
     "output_type": "display_data"
    }
   ],
   "source": [
    "ret, frame = video_cv.read()\n",
    "print('frame has', np.shape(frame)[2], ' 8-bit chanels (RGB),\\\n",
    " and a resolution of ', np.shape(frame)[0], 'x', np.shape(frame)[1], ' pixels \\n')\n",
    "\n",
    "image = cv.cvtColor(frame, cv.COLOR_BGR2GRAY)\n",
    "plt.imshow(image, cmap=cm.binary_r)\n",
    "\n"
   ]
  },
  {
   "cell_type": "markdown",
   "id": "4e42993d-b3e0-4962-840b-dfdbe45fd66f",
   "metadata": {
    "tags": []
   },
   "source": [
    "## OpenCV: import complete video (very slow, not recommended)"
   ]
  },
  {
   "cell_type": "code",
   "execution_count": 23,
   "id": "7d05ccf8-4ad6-4d31-b71f-a314afdabeb5",
   "metadata": {},
   "outputs": [],
   "source": [
    "def read_cine_cv(file):\n",
    "    video = pims.Cine(file)\n",
    "    video_cv = cv.VideoCapture(file)\n",
    "    frames = [[] for i in range(video.image_count)]\n",
    "    for i in range(video.image_count):\n",
    "        ret, frames[i] = video_cv.read()\n",
    "    return video, frames"
   ]
  },
  {
   "cell_type": "code",
   "execution_count": null,
   "id": "e5fe5102-da8f-4168-a463-dab247b066a3",
   "metadata": {},
   "outputs": [],
   "source": [
    "read_cine_cv('/home/fvega/Datos/brownian_blades/180322/blanca_245.cine')"
   ]
  }
 ],
 "metadata": {
  "kernelspec": {
   "display_name": "Python 3 (ipykernel)",
   "language": "python",
   "name": "python3"
  },
  "language_info": {
   "codemirror_mode": {
    "name": "ipython",
    "version": 3
   },
   "file_extension": ".py",
   "mimetype": "text/x-python",
   "name": "python",
   "nbconvert_exporter": "python",
   "pygments_lexer": "ipython3",
   "version": "3.10.5"
  }
 },
 "nbformat": 4,
 "nbformat_minor": 5
}
